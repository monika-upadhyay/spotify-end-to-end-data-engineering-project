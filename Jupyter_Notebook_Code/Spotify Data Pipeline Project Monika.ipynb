pip install spotipy
import spotipy
from spotipy.oauth2 import SpotifyClientCredentials
client_credentials_manager = SpotifyClientCredentials(client_id="e825634d27c74708891a1cc0ab1ef517", client_secret="1c299245137d46278317b8149234da31")
sp = spotipy.Spotify(client_credentials_manager = client_credentials_manager)
sp is an object here, but you can use everywhere that you have access to extract data from spotipy 
playlist_link = "https://open.spotify.com/playlist/2bcSVCNr1AtyVrB3YP9dLl"
we are interested in 2bcSVCNr1AtyVrB3YP9dLl because this is playlist ID that we actually want 
playlist_link.split('/')
playlist_link.split('/')[-1]
playlist_URI = playlist_link.split('/')[-1]
playlist_URI
data = sp.playlist_tracks(playlist_URI)
data['items'][0]
len(data['items'])
data['items'][0]
data['items'][0]['track']
data['items'][0]['track']['album']['id']
data['items'][0]['track']['album']['name']
data['items'][0]['track']['album']['release_date']
data['items'][0]['track']['album']['total_tracks']
data['items'][0]['track']['album']['external_urls']
data['items'][0]['track']['album']['external_urls']['spotify']
we did this for 1 album, we need to do for all albums, so we will run a loop
album_list = []
for row in data['items']:
    album_id = row['track']['album']['id']
    album_name = row['track']['album']['name']
    album_release_date = row['track']['album']['release_date']
    album_total_tracks = row['track']['album']['total_tracks']
    album_external_URLs = row['track']['album']['external_urls']
    album_info = {'album_id':album_id, 'album_name':album_name, 'album_release_date':album_release_date, 'album_total_tracks':album_total_tracks,'album_external_URLs':album_external_URLs}
    album_list.append(album_info)
album_list
data['items'][0]['track']['artists'][0]['id']
artist_list = []
for i in data['items']:
    for key,value in i.items():
        if(key == 'track'):
            for artist in value['artists']:
                print(artist)
artist_list = []
for i in data['items']:
    for key,value in i.items():
        if(key == 'track'):
            for artist in value['artists']:
                artist_info = {'artist_id':artist['id'],'artist_name':artist['name'],'external_urls':artist['href']}
                artist_list.append(artist_info)
artist_list
#songs info, outside album and artists
# my version bcox artist id is an list
songs_list = []
for row in data['items']:
    song_added_at = row['added_at']
    song_duration_ms = row['track']['duration_ms']
    song_external_urls = row['track']['external_urls']['spotify']
    song_id = row['track']['id']
    song_name = row['track']['name']
    song_popularity = row['track']['popularity']
    song_album_id = row['track']['album']['id']
    song_artist = []
    for artist in row['track']['artists']:
        song_artist.append(artist['id'])
    # song_artist_id = row['track']['artists'][0]['id']
    song_info = {'song_id':song_id,'song_name':song_name,'song_popularity':song_popularity,'song_duration_ms':song_duration_ms,
                 'song_added_at':song_added_at,'song_external_urls':song_external_urls, 'song_album_id':song_album_id,'song_artist_id':song_artist   }
    songs_list.append(song_info)
songs_list
#darshil version
songs_list = []
for row in data['items']:
    song_added_at = row['added_at']
    song_duration_ms = row['track']['duration_ms']
    song_external_urls = row['track']['external_urls']['spotify']
    song_id = row['track']['id']
    song_name = row['track']['name']
    song_popularity = row['track']['popularity']
    song_album_id = row['track']['album']['id']
    song_artist_id = row['track']['artists'][0]['id']
    song_info = {'song_id':song_id,'song_name':song_name,'song_popularity':song_popularity,'song_duration_ms':song_duration_ms,
                 'song_added_at':song_added_at,'song_external_urls':song_external_urls, 'song_album_id':song_album_id,'song_artist_id':song_artist_id   }
    songs_list.append(song_info)
songs_list
import pandas as pd
album_df = pd.DataFrame(album_list)
album_df.info()
album_df['album_release_date'] = pd.to_datetime(album_release_date)
album_df.info()
artist_df = pd.DataFrame(artist_list)
artist_df.info()
songs_df = pd.DataFrame(songs_list)
songs_df.info()
songs_df['song_added_at'] = pd.to_datetime(song_added_at)
songs_df.info()
album_df.head()
artist_df.head()
songs_df.head()
